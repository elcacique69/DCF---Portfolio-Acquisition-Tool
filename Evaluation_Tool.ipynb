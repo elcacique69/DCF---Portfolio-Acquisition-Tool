{
 "cells": [
  {
   "attachments": {},
   "cell_type": "markdown",
   "metadata": {},
   "source": [
    "## Import a Data Frame"
   ]
  },
  {
   "cell_type": "code",
   "execution_count": 1,
   "metadata": {},
   "outputs": [],
   "source": [
    "import os\n",
    "import pathlib\n",
    "import sys\n",
    "\n",
    "\n",
    "library_tools_path = str(pathlib.PurePath(os.getcwd()))\n",
    "sys.path.append(library_tools_path)\n",
    "\n",
    "import Library_Portfolio_Tools as lpt"
   ]
  },
  {
   "cell_type": "code",
   "execution_count": 2,
   "metadata": {},
   "outputs": [
    {
     "data": {
      "text/plain": [
       "{'4.a) Manufactured by an Acceptable Manufacturer': 'No Manufacturer breaches have been observed',\n",
       " '4.b) NBV Weighted Average Age of such Equipment': 'No NBV weighted average age breach',\n",
       " '4.c) Average Remaining Lease Term of the such Equipment manufactured after 2019': 'No Containers Manufactured after 2019 remaining lease term breaches (Avg Remaing Lease Term 2,451.16 years)',\n",
       " '4.d) Total Purchase Price by CEU': 'No NBV by CEU breach: 1,650.02 USD. The limit is 2900 USD',\n",
       " '5.19) Concentration Limits': 'No concentration convenant breach',\n",
       " 'Advance Rate cheking': 'No Advance Rate breaches (Advance Rate 60.30%)',\n",
       " '5.13) OFF Lease portfolio NBV concentration': 'No Off lease proportion breaches (Proportion 3.83%)',\n",
       " '5.17) Finance Lease portfolio NBV concentration': 'No Finance lease proportion breaches (Proportion 2.19%)'}"
      ]
     },
     "execution_count": 2,
     "metadata": {},
     "output_type": "execute_result"
    }
   ],
   "source": [
    "# Main\n",
    "\n",
    "# Global Variables\n",
    "closing_date = \"2023-06-12\"\n",
    "\n",
    "path_portfolio = library_tools_path + '/Data_Set_Closing.xlsx'\n",
    "eligibility_check = lpt.bank_eligibility_check(path_portfolio, \n",
    "                                               ADVANCE_RATE=65, \n",
    "                                               closing_date=closing_date)\n",
    "\n",
    "eligibility_check[\"Covenants\"]"
   ]
  },
  {
   "cell_type": "code",
   "execution_count": 3,
   "metadata": {},
   "outputs": [
    {
     "data": {
      "text/plain": [
       "{'4.a) Manufactured by an Acceptable Manufacturer': 'No Manufacturer breaches have been observed',\n",
       " '4.b) NBV Weighted Average Age of such Equipment': 'No NBV weighted average age breach',\n",
       " '4.c) Average Remaining Lease Term of the such Equipment manufactured after 2019': 'No Containers Manufactured after 2019 remaining lease term breaches (Avg Remaing Lease Term 2,451.16 years)',\n",
       " '4.d) Total Purchase Price by CEU': 'No NBV by CEU breach: 1,650.02 USD. The limit is 2900 USD',\n",
       " '5.19) Concentration Limits': 'No concentration convenant breach',\n",
       " 'Advance Rate cheking': 'No Advance Rate breaches (Advance Rate 60.30%)',\n",
       " '5.13) OFF Lease portfolio NBV concentration': 'No Off lease proportion breaches (Proportion 3.83%)',\n",
       " '5.17) Finance Lease portfolio NBV concentration': 'No Finance lease proportion breaches (Proportion 2.19%)'}"
      ]
     },
     "execution_count": 3,
     "metadata": {},
     "output_type": "execute_result"
    }
   ],
   "source": [
    "eligibility_check[\"Covenants\"]"
   ]
  },
  {
   "cell_type": "code",
   "execution_count": 4,
   "metadata": {},
   "outputs": [
    {
     "data": {
      "text/plain": [
       "{'Hedge': 4259197.237566449}"
      ]
     },
     "execution_count": 4,
     "metadata": {},
     "output_type": "execute_result"
    }
   ],
   "source": [
    "# Hedge Calculation\n",
    "lpt.calculate_hedge_payment(path_portfolio, NOTIONAL=17000000, NUM_PAYMENTS=59)"
   ]
  },
  {
   "cell_type": "code",
   "execution_count": 6,
   "metadata": {},
   "outputs": [
    {
     "data": {
      "text/plain": [
       "11575773.723065373"
      ]
     },
     "execution_count": 6,
     "metadata": {},
     "output_type": "execute_result"
    }
   ],
   "source": [
    "# NPV and ROI at T=0\n",
    "lpt.cashflow_calculation(path_portfolio,\n",
    "                         0.003,  # Insurance Fees\n",
    "                         0.007,  # Agency Fees\n",
    "                         0.002,  # Handling Fees\n",
    "                         0.005,  # Bad debt\n",
    "                         17000000, # NOTIONAL\n",
    "                         59, # Nb of Quarters\n",
    "                         0.01794847,  # Discount Rate\n",
    "                         0.06, # Per Diem Evolution\n",
    "                         0.03, # residual value evolution\n",
    "                         ) ['NPV']"
   ]
  },
  {
   "cell_type": "code",
   "execution_count": 7,
   "metadata": {},
   "outputs": [
    {
     "data": {
      "image/png": "[encoded data removed]",
      "text/plain": [
       "<Figure size 640x480 with 1 Axes>"
      ]
     },
     "metadata": {},
     "output_type": "display_data"
    }
   ],
   "source": [
    "import numpy as np\n",
    "import matplotlib.pyplot as plt\n",
    "# Sensitivity Analysis\n",
    "\n",
    "NPV_values = np.array([])\n",
    "for i in range(10):\n",
    "    NPV_values = np.append(NPV_values, (lpt.cashflow_calculation(path_portfolio,\n",
    "                                                                 0.003,  # Insurance Fees\n",
    "                                                                 0.007,  # Agency Fees\n",
    "                                                                 0.002,  # Handling Fees\n",
    "                                                                 0.005,  # Bad debt\n",
    "                                                                 17000000,\n",
    "                                                                 59,\n",
    "                                                                 np.random.triangular(left=0.005, mode=0.01794847, right=0.03, size=1), # WACC\n",
    "                                                                 np.random.triangular(left=-0.1, mode=0.06, right=0.1, size=1), # PD evol\n",
    "                                                                 np.random.triangular(left=-0.03, mode=0.01, right=0.03, size=1) # RV evol\n",
    "                                                                 )['NPV']))\n",
    "\n",
    "plt.hist(np.array(NPV_values)/1000000)\n",
    "plt.show()\n"
   ]
  }
 ],
 "metadata": {
  "kernelspec": {
   "display_name": "Python 3",
   "language": "python",
   "name": "python3"
  },
  "language_info": {
   "codemirror_mode": {
    "name": "ipython",
    "version": 3
   },
   "file_extension": ".py",
   "mimetype": "text/x-python",
   "name": "python",
   "nbconvert_exporter": "python",
   "pygments_lexer": "ipython3",
   "version": "3.9.13"
  },
  "orig_nbformat": 4
 },
 "nbformat": 4,
 "nbformat_minor": 2
}
