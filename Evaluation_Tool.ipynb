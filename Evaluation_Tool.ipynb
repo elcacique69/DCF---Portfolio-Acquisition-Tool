{
 "cells": [
  {
   "attachments": {},
   "cell_type": "markdown",
   "metadata": {},
   "source": [
    "## Import a Data Frame"
   ]
  },
  {
   "cell_type": "code",
   "execution_count": 1,
   "metadata": {},
   "outputs": [],
   "source": [
    "import os\n",
    "import pathlib\n",
    "import sys\n",
    "\n",
    "library_tools_path = str(pathlib.PurePath(os.getcwd()))\n",
    "sys.path.append(library_tools_path)\n",
    "\n",
    "import Library_Portfolio_Tools as lpt"
   ]
  },
  {
   "cell_type": "code",
   "execution_count": 2,
   "metadata": {},
   "outputs": [
    {
     "data": {
      "text/plain": [
       "{'4.a) Manufactured by an Acceptable Manufacturer': 'No Manufacturer breaches have been observed',\n",
       " '4.b) NBV Weighted Average Age of such Equipment': 'No NBV weighted average age breach',\n",
       " '4.c) Average Remaining Lease Term of the such Equipment manufactured after 2019': 'No Containers Manufactured after 2019 remaining lease term breaches (Avg Remaing Lease Term 2,451.16 years)',\n",
       " '4.d) Total Purchase Price by CEU': 'No NBV by CEU breach: 1,650.02 USD. The limit is 2900 USD',\n",
       " '5.19) Concentration Limits': 'No concentration convenant breach',\n",
       " 'Advance Rate cheking': 'No Advance Rate breaches (Advance Rate 60.30%)',\n",
       " '5.13) OFF Lease portfolio NBV concentration': 'No Off lease proportion breaches (Proportion 3.83%)',\n",
       " '5.17) Finance Lease portfolio NBV concentration': 'No Finance lease proportion breaches (Proportion 2.19%)'}"
      ]
     },
     "execution_count": 2,
     "metadata": {},
     "output_type": "execute_result"
    }
   ],
   "source": [
    "# Main\n",
    "\n",
    "# Global Variables\n",
    "closing_date = \"2023-06-12\"\n",
    "\n",
    "path_portfolio = library_tools_path + '/Data_Set_Closing.xlsx'\n",
    "eligibility_check = lpt.bank_eligibility_check(path_portfolio, \n",
    "                                               ADVANCE_RATE=65, \n",
    "                                               closing_date=closing_date)\n",
    "\n",
    "eligibility_check[\"Covenants\"]"
   ]
  },
  {
   "cell_type": "code",
   "execution_count": 3,
   "metadata": {},
   "outputs": [
    {
     "data": {
      "text/plain": [
       "{'4.a) Manufactured by an Acceptable Manufacturer': 'No Manufacturer breaches have been observed',\n",
       " '4.b) NBV Weighted Average Age of such Equipment': 'No NBV weighted average age breach',\n",
       " '4.c) Average Remaining Lease Term of the such Equipment manufactured after 2019': 'No Containers Manufactured after 2019 remaining lease term breaches (Avg Remaing Lease Term 2,451.16 years)',\n",
       " '4.d) Total Purchase Price by CEU': 'No NBV by CEU breach: 1,650.02 USD. The limit is 2900 USD',\n",
       " '5.19) Concentration Limits': 'No concentration convenant breach',\n",
       " 'Advance Rate cheking': 'No Advance Rate breaches (Advance Rate 60.30%)',\n",
       " '5.13) OFF Lease portfolio NBV concentration': 'No Off lease proportion breaches (Proportion 3.83%)',\n",
       " '5.17) Finance Lease portfolio NBV concentration': 'No Finance lease proportion breaches (Proportion 2.19%)'}"
      ]
     },
     "execution_count": 3,
     "metadata": {},
     "output_type": "execute_result"
    }
   ],
   "source": [
    "eligibility_check[\"Covenants\"]"
   ]
  },
  {
   "cell_type": "code",
   "execution_count": null,
   "metadata": {},
   "outputs": [],
   "source": [
    "lpt.calculate_hedge_payment(path_portfolio, NOTIONAL=1000000, NUM_PAYMENTS=59)"
   ]
  },
  {
   "cell_type": "code",
   "execution_count": null,
   "metadata": {},
   "outputs": [],
   "source": []
  },
  {
   "cell_type": "code",
   "execution_count": null,
   "metadata": {},
   "outputs": [],
   "source": []
  },
  {
   "cell_type": "code",
   "execution_count": 35,
   "metadata": {},
   "outputs": [
    {
     "data": {
      "text/plain": [
       "{'ROI': '-12.48 %', 'NPV': '9,538,906.48 USD'}"
      ]
     },
     "execution_count": 35,
     "metadata": {},
     "output_type": "execute_result"
    }
   ],
   "source": [
    "from datetime import datetime\n",
    "import pandas as pd\n",
    "\n",
    "# Define the Excel path\n",
    "excel_path = r'C:\\Users\\camil\\Documents\\GitHub\\DCF---Portfolio-Acquisition-Tool\\Data_Set_Closing.xlsx'\n",
    "\n",
    "\n",
    "def dcf_cashflow(df_portfolio,\n",
    "                 closing_date,\n",
    "                 insurance_fees,\n",
    "                 agency_fees,\n",
    "                 handling_fees,\n",
    "                 bad_debt,\n",
    "                 discount_rate,\n",
    "                 pd_ev,\n",
    "                 output_path):\n",
    "\n",
    "    # Convert to date time\n",
    "    df_portfolio['End Contract Date'] = pd.to_datetime(df_portfolio['End Contract Date'])\n",
    "    df_portfolio['Closing Date'] = pd.to_datetime(df_portfolio['Closing Date'])\n",
    "\n",
    "    # Remaining contract days\n",
    "    df_portfolio['Remaining Contract (days)'] = df_portfolio['End Contract Date'] - closing_date\n",
    "    df_portfolio['Contract Remaining Quarters'] = df_portfolio['Remaining Contract (days)'].dt.days / 90\n",
    "\n",
    "    # Remaining economic life (only used for the Residual Value)\n",
    "    df_portfolio['15 Years Date'] = df_portfolio['Manufacturing Date'] + pd.DateOffset(years=15)\n",
    "    df_portfolio['Lifecycle Remaining Days'] = df_portfolio['15 Years Date'] - closing_date\n",
    "    df_portfolio['Lifecycle Remaining Quarters'] = df_portfolio['Lifecycle Remaining Days'].dt.days / 90\n",
    "\n",
    "    # Economic life second contract\n",
    "    df_portfolio['Lifecycle Remaining Days SC'] = df_portfolio['15 Years Date'] - df_portfolio['End Contract Date']\n",
    "    df_portfolio['Lifecycle Remaining Quarters SC'] = df_portfolio['Lifecycle Remaining Days SC'].dt.days / 90\n",
    "\n",
    "    # Create new columns for OPEX\n",
    "    df_portfolio['Per Diem Cost Multiplier'] = insurance_fees + agency_fees + bad_debt + handling_fees\n",
    "    df_portfolio['Total OPEX'] = df_portfolio['Per Diem (Unit)'] * df_portfolio['Per Diem Cost Multiplier']\n",
    "    df_portfolio['Daily Cash Flow'] = df_portfolio['Per Diem (Unit)'] - df_portfolio['Total OPEX']\n",
    "    df_portfolio['Daily Cash Flow SC'] = df_portfolio['Per Diem (Unit)']*(1+pd_ev) - df_portfolio['Total OPEX']\n",
    "\n",
    "\n",
    "    # Create a list to contain the data for the quarters\n",
    "    quarterly_contract_rev = pd.DataFrame(columns=['Quarter', 'Revenue', 'RV', 'Total Revenue with RV'])\n",
    "\n",
    "    # Iterate through each row in the original DataFrame\n",
    "    for i in range(df_portfolio.shape[0]):\n",
    "        row = df_portfolio.iloc[i, :]\n",
    "        for quarter in range(1, int(row['Lifecycle Remaining Quarters']) + 1):\n",
    "            # Calculate the days in the quarter\n",
    "            days_in_quarter = min(max(row['Remaining Contract (days)'].days - 90 * (quarter - 1), 0), 90)\n",
    "            days_in_quarter_SC = min(max(row['Lifecycle Remaining Days SC'].days - 90 * (quarter - 1), 0), 90)\n",
    "\n",
    "            # Calculate the revenue for the quarter\n",
    "            if days_in_quarter > 0:\n",
    "                revenue_in_quarter = days_in_quarter * row['Daily Cash Flow']\n",
    "            elif days_in_quarter == 0:\n",
    "                revenue_in_quarter = days_in_quarter_SC * row['Daily Cash Flow SC']\n",
    "\n",
    "            # Add the Residual Value if it's the last quarter for the container\n",
    "            rv_value = row['RV'] if quarter == int(row['Lifecycle Remaining Quarters']) else 0\n",
    "\n",
    "            # Add the row to the quarterly data set\n",
    "            \n",
    "            values = [\n",
    "                      quarter,\n",
    "                      revenue_in_quarter,\n",
    "                      rv_value,\n",
    "                      revenue_in_quarter + rv_value\n",
    "                     ]\n",
    "            quarterly_contract_rev.loc[quarterly_contract_rev.shape[0], :] = values\n",
    "            \n",
    "\n",
    "    # Group by quarter and sum the revenue and RV\n",
    "    quarterly_revenue = \\\n",
    "        quarterly_contract_rev.groupby('Quarter').agg(\n",
    "            {'Revenue': 'sum', 'RV': 'sum', 'Total Revenue with RV': 'sum'}).reset_index()\n",
    "\n",
    "    # Calculate NPV and add it as a new column\n",
    "    quarterly_revenue['NPV'] = \\\n",
    "        quarterly_revenue['Total Revenue with RV'] / (1 + discount_rate) ** quarterly_revenue['Quarter']\n",
    "    \n",
    "\n",
    "    # Calculate ROI\n",
    "    investment = df_portfolio['Purchase Price'].sum()\n",
    "    roi = (quarterly_revenue['NPV'].sum() - investment) / investment * 100\n",
    "    npv = quarterly_revenue['NPV'].sum()\n",
    "\n",
    "    # Export the quarterly revenue to Excel\n",
    "    quarterly_revenue.to_excel(output_path, index=False)\n",
    "\n",
    "    return {'ROI': f\"{roi:,.2f} %\",\n",
    "            'NPV': f\"{npv:,.2f} USD\"}\n",
    "\n",
    "\n",
    "# Load the data\n",
    "df_portfolio = pd.read_excel(excel_path, sheet_name='Planned Portfolio')\n",
    "\n",
    "dcf_fc = dcf_cashflow(df_portfolio, datetime.strptime('2023-06-12', '%Y-%m-%d'), 0.003, 0.007, 0.002, 0.005, 0.01794847, 0.06,\n",
    "                      r\"C:\\Users\\camil\\Documents\\GitHub\\DCF---Portfolio-Acquisition-Tool\\Q_DCF.xlsx\")\n",
    "\n",
    "dcf_fc"
   ]
  }
 ],
 "metadata": {
  "kernelspec": {
   "display_name": "Python 3",
   "language": "python",
   "name": "python3"
  },
  "language_info": {
   "codemirror_mode": {
    "name": "ipython",
    "version": 3
   },
   "file_extension": ".py",
   "mimetype": "text/x-python",
   "name": "python",
   "nbconvert_exporter": "python",
   "pygments_lexer": "ipython3",
   "version": "3.10.11"
  },
  "orig_nbformat": 4
 },
 "nbformat": 4,
 "nbformat_minor": 2
}
