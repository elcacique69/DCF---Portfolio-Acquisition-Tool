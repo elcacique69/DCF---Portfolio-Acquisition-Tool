{
 "cells": [
  {
   "attachments": {},
   "cell_type": "markdown",
   "metadata": {},
   "source": [
    "## Import a Data Frame"
   ]
  },
  {
   "cell_type": "code",
   "execution_count": 51,
   "metadata": {},
   "outputs": [],
   "source": [
    "import os\n",
    "import pathlib\n",
    "import sys\n",
    "\n",
    "library_tools_path = str(pathlib.PurePath(os.getcwd()))\n",
    "sys.path.append(library_tools_path)\n",
    "\n",
    "import Library_Portfolio_Tools as lpt"
   ]
  },
  {
   "cell_type": "code",
   "execution_count": 52,
   "metadata": {},
   "outputs": [
    {
     "ename": "AttributeError",
     "evalue": "module 'Library_Portfolio_Tools' has no attribute 'bank_convenants'",
     "output_type": "error",
     "traceback": [
      "\u001b[1;31m---------------------------------------------------------------------------\u001b[0m",
      "\u001b[1;31mAttributeError\u001b[0m                            Traceback (most recent call last)",
      "Cell \u001b[1;32mIn[52], line 5\u001b[0m\n\u001b[0;32m      2\u001b[0m path_portfolio \u001b[39m=\u001b[39m \u001b[39m\"\u001b[39m\u001b[39mhttps://raw.githubusercontent.com/elcacique69/DCF---Portfolio-Acquisition-Tool/main/Data_Set_Closing.xlsx\u001b[39m\u001b[39m\"\u001b[39m\n\u001b[0;32m      3\u001b[0m MIN_PRICE \u001b[39m=\u001b[39m \u001b[39m1500\u001b[39m\n\u001b[1;32m----> 5\u001b[0m results \u001b[39m=\u001b[39m lpt\u001b[39m.\u001b[39;49mbank_convenants(path_portfolio, MIN_PRICE)\n\u001b[0;32m      7\u001b[0m df_portfolio \u001b[39m=\u001b[39m results[\u001b[39m0\u001b[39m]\n\u001b[0;32m      8\u001b[0m df_expensive_containers \u001b[39m=\u001b[39m results[\u001b[39m1\u001b[39m]\n",
      "\u001b[1;31mAttributeError\u001b[0m: module 'Library_Portfolio_Tools' has no attribute 'bank_convenants'"
     ]
    }
   ],
   "source": [
    "# Main\n",
    "path_portfolio = \"https://raw.githubusercontent.com/elcacique69/DCF---Portfolio-Acquisition-Tool/main/Data_Set_Closing.xlsx\"\n",
    "MIN_PRICE = 1500\n",
    "\n",
    "results = lpt.bank_convenants(path_portfolio, MIN_PRICE)\n",
    "\n",
    "df_portfolio = results[0]\n",
    "df_expensive_containers = results[1]\n",
    "results[2]\n",
    "\n"
   ]
  }
 ],
 "metadata": {
  "kernelspec": {
   "display_name": "Python 3",
   "language": "python",
   "name": "python3"
  },
  "language_info": {
   "codemirror_mode": {
    "name": "ipython",
    "version": 3
   },
   "file_extension": ".py",
   "mimetype": "text/x-python",
   "name": "python",
   "nbconvert_exporter": "python",
   "pygments_lexer": "ipython3",
   "version": "3.8.10"
  },
  "orig_nbformat": 4
 },
 "nbformat": 4,
 "nbformat_minor": 2
}
