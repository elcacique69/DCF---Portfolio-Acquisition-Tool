{
 "cells": [
  {
   "cell_type": "markdown",
   "id": "29784803",
   "metadata": {},
   "source": [
    "# Library"
   ]
  },
  {
   "cell_type": "code",
   "execution_count": 29,
   "id": "aae09161",
   "metadata": {},
   "outputs": [],
   "source": [
    "import pandas as pd\n",
    "import numpy as np\n",
    "from tabulate import tabulate \n",
    "import matplotlib.pyplot as plt\n",
    "import time\n",
    "from datetime import datetime, timedelta\n",
    "from datetime import datetime\n",
    "import quandl"
   ]
  },
  {
   "cell_type": "markdown",
   "id": "c78ec22f",
   "metadata": {},
   "source": [
    "# Data Set"
   ]
  },
  {
   "cell_type": "code",
   "execution_count": 30,
   "id": "14e62d92",
   "metadata": {},
   "outputs": [],
   "source": [
    "xl = pd.ExcelFile('/Users/carlosjosegonzalezacevedo/Documents/NEOMA/Thesis/Coding/may_txl_portfolio.xlsx')\n",
    "\n",
    "# Portfolio to be acquired and the current Asset Register\n",
    "df = xl.parse('COMBINEDPORTFOLIO')\n",
    "\n",
    "# Portfolio to be acquired\n",
    "df_p = xl.parse('List')\n",
    "\n",
    "# Current Asset Register\n",
    "df_f = xl.parse('APRIL23')"
   ]
  },
  {
   "cell_type": "markdown",
   "id": "a2048916",
   "metadata": {},
   "source": [
    "# Variables"
   ]
  },
  {
   "cell_type": "code",
   "execution_count": 32,
   "id": "7fc4423d",
   "metadata": {},
   "outputs": [],
   "source": [
    "# Closing and current date\n",
    "closing_date = datetime(2022, 6, 12)\n",
    "current_date = datetime(2023, 6, 4)\n",
    "\n",
    "\n",
    "# Drawdowns by order May 2022, October 2022, December 2022, may 2023 - \"The Debt\"\n",
    "drawdowns = [12395585.46, 4972527.00, 2997104.00]\n",
    "closing_amount = df_p['Syndication price'].sum()\n",
    "debt = sum(drawdowns) + closing_amount\n",
    "\n",
    "# Asset Register NBV\n",
    "asset_register_nbv = df_f['NBV'].sum() + closing_amount"
   ]
  },
  {
   "cell_type": "markdown",
   "id": "7968d228",
   "metadata": {},
   "source": [
    "# ING convenants"
   ]
  },
  {
   "cell_type": "markdown",
   "id": "6b0b736a",
   "metadata": {},
   "source": [
    "## Advance Rate"
   ]
  },
  {
   "cell_type": "code",
   "execution_count": 33,
   "id": "a5a638e5",
   "metadata": {},
   "outputs": [
    {
     "name": "stdout",
     "output_type": "stream",
     "text": [
      "The limit advance rate is: 66%\n",
      "Current Advance Rate: 61.26%\n",
      "Asset Register NBV: 51,033,201.71 USD\n",
      "Total debt: 31,263,723.33 USD\n"
     ]
    }
   ],
   "source": [
    "def calculate_advance_rate(closing_date: datetime, current_date: datetime):\n",
    "    # Termination date and first repayment date\n",
    "    termination_date = closing_date + timedelta(days=30*27) #approximating months by 30 days\n",
    "    first_repayment_date = closing_date + timedelta(days=30*12) # aprox months and 1 year after the agreement date\n",
    "    \n",
    "    # Difference in months\n",
    "    months_delta = (current_date.year - closing_date.year) * 12 + current_date.month - closing_date.month\n",
    "    \n",
    "    # Calculating the advance rate based on dates conditions\n",
    "    if current_date <= closing_date:\n",
    "        return \"Invalid date. The current date should be after the closing date\"\n",
    "    elif current_date <= first_repayment_date:\n",
    "        return \"The limit advance rate is: 66%\"\n",
    "    elif current_date <= termination_date:\n",
    "        # Reduction of 1% for every 3 months after the first repayment date \n",
    "        advance_rate_reduction = ((months_delta - 12) // 3) * 1\n",
    "        return \"The limit advance rate is: {}%\".format(max(65 - advance_rate_reduction, 61))\n",
    "    else:\n",
    "        return \"The limit advance rate is: 61%\"\n",
    "    \n",
    "print(calculate_advance_rate(closing_date, current_date))\n",
    "\n",
    "current_advance_rate = debt / asset_register_nbv * 100\n",
    "\n",
    "print(f'Current Advance Rate: {current_advance_rate:.2f}%')\n",
    "print(f'Asset Register NBV: {asset_register_nbv:,.2f} USD')\n",
    "print(f'Total debt: {debt:,.2f} USD')"
   ]
  }
 ],
 "metadata": {
  "kernelspec": {
   "display_name": "Python 3 (ipykernel)",
   "language": "python",
   "name": "python3"
  },
  "language_info": {
   "codemirror_mode": {
    "name": "ipython",
    "version": 3
   },
   "file_extension": ".py",
   "mimetype": "text/x-python",
   "name": "python",
   "nbconvert_exporter": "python",
   "pygments_lexer": "ipython3",
   "version": "3.9.13"
  }
 },
 "nbformat": 4,
 "nbformat_minor": 5
}
