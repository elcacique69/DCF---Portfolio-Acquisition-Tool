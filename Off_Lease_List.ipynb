{
 "cells": [
  {
   "cell_type": "markdown",
   "id": "0e11cc0f",
   "metadata": {},
   "source": [
    "# Library"
   ]
  },
  {
   "cell_type": "code",
   "execution_count": 72,
   "id": "20fc1ea7",
   "metadata": {},
   "outputs": [],
   "source": [
    "import pandas as pd\n",
    "import numpy as np\n",
    "from tabulate import tabulate\n",
    "import matplotlib.pyplot as plt\n",
    "import time\n",
    "from datetime import datetime, timedelta\n",
    "import quandl\n",
    "from datetime import datetime\n",
    "from openpyxl import load_workbook"
   ]
  },
  {
   "cell_type": "markdown",
   "id": "ed0bb559",
   "metadata": {},
   "source": [
    "# Data Set"
   ]
  },
  {
   "cell_type": "code",
   "execution_count": 73,
   "id": "dae309b5",
   "metadata": {},
   "outputs": [],
   "source": [
    "# GitHub raw file URL\n",
    "xlsx_url = \"https://raw.githubusercontent.com/elcacique69/DCF---Portfolio-Acquisition-Tool/main/Data_Set_Closing.xlsx\"\n",
    "\n",
    "df = pd.read_excel(xlsx_url, sheet_name=\"Planned Portfolio\")"
   ]
  },
  {
   "cell_type": "markdown",
   "id": "ac52108d",
   "metadata": {},
   "source": [
    "# Proportion of leased equipment"
   ]
  },
  {
   "cell_type": "code",
   "execution_count": 74,
   "id": "9550fde9",
   "metadata": {},
   "outputs": [
    {
     "name": "stdout",
     "output_type": "stream",
     "text": [
      "The portfolio is not completely leased.\n",
      "The proportion of 'On lease' in the portfolio is 94.01964972234089%.\n",
      "The proportion of 'Off lease' in the portfolio is 5.980350277659118%.\n"
     ]
    }
   ],
   "source": [
    "rows = len(df)\n",
    "\n",
    "# use boolean indexing to select rows where 'Current status' is 'On Lease'.\n",
    "# df[\"Current status\"] == \"On lease\" returns a Boolean Series where each item is True if the corresponding \n",
    "# 'Current status' is 'On lease', and False otherwise.\n",
    "# df[boolean_series] then returns a DataFrame containing only the rows where the Boolean Series is True.\n",
    "# finally, len(df[boolean_series]) counts the number of such rows.\n",
    "\n",
    "leased = len(df[df[\"Current Status\"] == \"On lease\"])\n",
    "\n",
    "# calculate the proportion of leased rows to the total rows\n",
    "# this is done by dividing the number of 'leased' rows by the total number of rows\n",
    "\n",
    "equipment_leased = leased / rows\n",
    "equipment_not_leased = 1 - equipment_leased\n",
    "\n",
    "\n",
    "# if the proportion is equal to 1, print \"The portfolio is completely leased.\"\n",
    "\n",
    "if equipment_leased == 1:\n",
    "    print(\"The portfolio is completely leased.\")\n",
    "else:\n",
    "    print(\"The portfolio is not completely leased.\")\n",
    "    \n",
    "# Calculate and add the sum of Purchase Price for each container type\n",
    "container_types = [\"20'DC\", \"40'DC\", \"40'HC\"]\n",
    "container_sum_data = []\n",
    "for container_type in container_types:\n",
    "    filtered_df = non_leased_df[non_leased_df['Type'] == container_type]\n",
    "    sum_purchase_price = filtered_df['Purchase Price'].sum()\n",
    "    container_sum_data.append({'Metric': f'{container_type} Purchase Price', 'Value': sum_purchase_price})\n",
    "\n",
    "container_sum_df = pd.DataFrame(container_sum_data)\n",
    "\n",
    "# print the proportion of 'On lease' rows in the portfolio, multiplied by 100 to convert the proportion to a percentage\n",
    "print(f\"The proportion of 'On lease' in the portfolio is {equipment_leased * 100}%.\")\n",
    "print(f\"The proportion of 'Off lease' in the portfolio is {equipment_not_leased * 100}%.\")"
   ]
  },
  {
   "cell_type": "markdown",
   "id": "a0ae7fc2",
   "metadata": {},
   "source": [
    "# Data Set of non leased equipment"
   ]
  },
  {
   "cell_type": "code",
   "execution_count": 75,
   "id": "b93426a9",
   "metadata": {},
   "outputs": [
    {
     "name": "stdout",
     "output_type": "stream",
     "text": [
      "╒════════════════════════════════════════╤════════════════════╕\n",
      "│ Metric                                 │ Value              │\n",
      "╞════════════════════════════════════════╪════════════════════╡\n",
      "│ Total NBV of non-leased equipment      │ 613,480.00 USD     │\n",
      "├────────────────────────────────────────┼────────────────────┤\n",
      "│ NBV proportion of non-leased equipment │ 5.629027969773624% │\n",
      "╘════════════════════════════════════════╧════════════════════╛\n"
     ]
    }
   ],
   "source": [
    "# First, create a DataFrame with only non-leased equipment\n",
    "non_leased_df = df[df[\"Current Status\"] != \"On lease\"]\n",
    "\n",
    "# Get the list of container numbers for non-leased equipment\n",
    "non_leased_container_numbers = non_leased_df[\"Serial Number\"].tolist()\n",
    "\n",
    "# Calculate the total NBV of non-leased equipment\n",
    "total_non_leased_nbv = non_leased_df[\"Purchase Price\"].sum()\n",
    "\n",
    "# Calculate the total NBV of all equipment\n",
    "total_nbv = df[\"Purchase Price\"].sum()\n",
    "\n",
    "# Calculate the proportion of NBV of non-leased equipment to the total NBV\n",
    "non_leased_nbv_proportion = total_non_leased_nbv / total_nbv\n",
    "\n",
    "# Create a list of results\n",
    "results = [\n",
    "    [\"Total NBV of non-leased equipment\", f\"{total_non_leased_nbv:,.2f} USD\"],\n",
    "    [\"NBV proportion of non-leased equipment\", f\"{non_leased_nbv_proportion * 100}%\"],\n",
    "]\n",
    "\n",
    "# Output the results in a table format using tabulate\n",
    "print(tabulate(results, headers=[\"Metric\", \"Value\"], tablefmt=\"fancy_grid\"))"
   ]
  },
  {
   "cell_type": "markdown",
   "id": "99b3e113",
   "metadata": {},
   "source": [
    "# Export the Off lease list to excel"
   ]
  },
  {
   "cell_type": "code",
   "execution_count": 77,
   "id": "1b876a4c",
   "metadata": {},
   "outputs": [],
   "source": [
    "# Specify the export file path for the new Excel file\n",
    "export_path_non_leased = \"/Users/carlosjosegonzalezacevedo/Documents/NEOMA/Thesis/DCF Container portfolio acquisition model/off_Lease_List.xlsx\"\n",
    "\n",
    "# Create a sample DataFrame for the Dashboard sheet\n",
    "dashboard_data = {\n",
    "    'Metric': ['Total NBV of non-leased equipment', 'NBV proportion of non-leased equipment'],\n",
    "    'Value': [total_non_leased_nbv, non_leased_nbv_proportion]\n",
    "}\n",
    "dashboard_df = pd.DataFrame(dashboard_data)\n",
    "\n",
    "# Create a new Excel file\n",
    "writer = pd.ExcelWriter(export_path_non_leased, engine='xlsxwriter')\n",
    "\n",
    "# Write the DataFrames to the respective sheets\n",
    "non_leased_df.to_excel(writer, sheet_name='Non Leased Equipment', index=False)\n",
    "dashboard_df.to_excel(writer, sheet_name='Dashboard', index=False)\n",
    "\n",
    "container_sum_df.to_excel(writer, sheet_name='Dashboard', startrow=dashboard_df.shape[0]+2, index=False)\n",
    "\n",
    "writer.save()"
   ]
  }
 ],
 "metadata": {
  "kernelspec": {
   "display_name": "Python 3 (ipykernel)",
   "language": "python",
   "name": "python3"
  },
  "language_info": {
   "codemirror_mode": {
    "name": "ipython",
    "version": 3
   },
   "file_extension": ".py",
   "mimetype": "text/x-python",
   "name": "python",
   "nbconvert_exporter": "python",
   "pygments_lexer": "ipython3",
   "version": "3.9.13"
  }
 },
 "nbformat": 4,
 "nbformat_minor": 5
}
