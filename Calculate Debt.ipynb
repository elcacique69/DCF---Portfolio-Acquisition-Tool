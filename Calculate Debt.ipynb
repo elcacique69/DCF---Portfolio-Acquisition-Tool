{
 "cells": [
  {
   "cell_type": "markdown",
   "id": "fe1c27a9",
   "metadata": {},
   "source": [
    "# Library"
   ]
  },
  {
   "cell_type": "code",
   "execution_count": 6,
   "id": "8b37818a",
   "metadata": {},
   "outputs": [],
   "source": [
    "import pandas as pd\n",
    "import numpy as np\n",
    "from tabulate import tabulate\n",
    "import matplotlib.pyplot as plt\n",
    "import time\n",
    "from datetime import datetime, timedelta\n",
    "import quandl\n",
    "from datetime import datetime\n",
    "from openpyxl import load_workbook"
   ]
  },
  {
   "cell_type": "markdown",
   "id": "0b1d695e",
   "metadata": {},
   "source": [
    "# Data Set"
   ]
  },
  {
   "cell_type": "code",
   "execution_count": 17,
   "id": "b876b4aa",
   "metadata": {},
   "outputs": [],
   "source": [
    "# GitHub raw file URL\n",
    "xlsx_url = \"https://raw.githubusercontent.com/elcacique69/DCF---Portfolio-Acquisition-Tool/main/Data_Set_Closing.xlsx\"\n",
    "\n",
    "df = pd.read_excel(xlsx_url, sheet_name=\"Planned Portfolio\")\n",
    "df_debt = pd.read_excel(xlsx_url, sheet_name=\"Debt\")"
   ]
  },
  {
   "cell_type": "markdown",
   "id": "bbf39ac5",
   "metadata": {},
   "source": [
    "# Calculate Debt"
   ]
  },
  {
   "cell_type": "code",
   "execution_count": 20,
   "id": "c37d7b81",
   "metadata": {},
   "outputs": [
    {
     "name": "stdout",
     "output_type": "stream",
     "text": [
      "The new total debt is: 30,898,506.87 USD\n"
     ]
    }
   ],
   "source": [
    "updated_debt = df['Purchase Price'].sum() + df_debt['Total']\n",
    "formatted_debt = \"{:,.2f} USD\".format(updated_debt.item())\n",
    "print(\"The new total debt is:\", formatted_debt)"
   ]
  }
 ],
 "metadata": {
  "kernelspec": {
   "display_name": "Python 3 (ipykernel)",
   "language": "python",
   "name": "python3"
  },
  "language_info": {
   "codemirror_mode": {
    "name": "ipython",
    "version": 3
   },
   "file_extension": ".py",
   "mimetype": "text/x-python",
   "name": "python",
   "nbconvert_exporter": "python",
   "pygments_lexer": "ipython3",
   "version": "3.9.13"
  }
 },
 "nbformat": 4,
 "nbformat_minor": 5
}
