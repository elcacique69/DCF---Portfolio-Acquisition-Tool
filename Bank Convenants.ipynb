{
 "cells": [
  {
   "attachments": {},
   "cell_type": "markdown",
   "id": "50005db7",
   "metadata": {},
   "source": [
    "# Library"
   ]
  },
  {
   "cell_type": "code",
   "execution_count": 5,
   "id": "5d0dd181",
   "metadata": {},
   "outputs": [],
   "source": [
    "import pandas as pd\n",
    "import numpy as np\n",
    "from tabulate import tabulate\n",
    "import matplotlib.pyplot as plt\n",
    "import time\n",
    "from datetime import datetime, timedelta\n",
    "import quandl\n",
    "from datetime import datetime\n",
    "from openpyxl import load_workbook"
   ]
  },
  {
   "attachments": {},
   "cell_type": "markdown",
   "id": "ae0453ad",
   "metadata": {},
   "source": [
    "# Data Set"
   ]
  },
  {
   "cell_type": "code",
   "execution_count": 5,
   "id": "6f61ba86",
   "metadata": {},
   "outputs": [],
   "source": [
    "# GitHub raw file URL\n",
    "xlsx_url = \"https://raw.githubusercontent.com/elcacique69/DCF---Portfolio-Acquisition-Tool/main/Data_Set_Closing.xlsx\"\n",
    "\n",
    "df = pd.read_excel(xlsx_url, sheet_name=\"Planned Portfolio\")\n",
    "df_asset_register = pd.read_excel(xlsx_url, sheet_name=\"Updated Asset Register\")\n",
    "df_debt = pd.read_excel(xlsx_url, sheet_name=\"Debt\")"
   ]
  },
  {
   "attachments": {},
   "cell_type": "markdown",
   "id": "2ebbb0a1",
   "metadata": {},
   "source": [
    "# Drawdown Amount "
   ]
  },
  {
   "cell_type": "code",
   "execution_count": 42,
   "id": "360e5a98",
   "metadata": {},
   "outputs": [
    {
     "name": "stdout",
     "output_type": "stream",
     "text": [
      "The Drawdown minimal amount is respected\n"
     ]
    }
   ],
   "source": [
    "# Calculate the Portfolio Purchase Price\n",
    "purchase_price = df['Purchase Price'].sum()\n",
    "\n",
    "# Minimal amount for drawdown\n",
    "minimal_amount = 3000000\n",
    "\n",
    "# Outstanding Facility Amount\n",
    "debt = df_debt['Total'].sum()\n",
    "facility = 35000000\n",
    "outstanding_facility = facility - debt\n",
    "\n",
    "# If statement for Purchase Amount Covenant\n",
    "if purchase_price > minimal_amount:\n",
    "    if purchase_price <= outstanding_facility:\n",
    "        print(\"The Drawdown minimal amount is respected\")\n",
    "    else:\n",
    "        print(\"BREACH: The purchase amount exceeds the facility capacity.\")\n",
    "else:\n",
    "    print(\"BREACH: minimal amount for drawdown is 3,000,000.00 USD\")"
   ]
  },
  {
   "attachments": {},
   "cell_type": "markdown",
   "id": "ff2e8cb9",
   "metadata": {},
   "source": [
    "# Manufacturer Covenants"
   ]
  },
  {
   "cell_type": "code",
   "execution_count": 40,
   "id": "7c0ece46",
   "metadata": {},
   "outputs": [
    {
     "name": "stdout",
     "output_type": "stream",
     "text": [
      "Non-matching containers exported to: /Users/carlosjosegonzalezacevedo/Documents/NEOMA/Thesis/DCF Container portfolio acquisition model/DCF---Portfolio-Acquisition-Tool/containers_wrong_manufacturer.xlsx (Sheet: Wrong Manufacturer List)\n"
     ]
    }
   ],
   "source": [
    "# List of manufacturers\n",
    "manufacturer_list = [\"CIMC\", \"Singamas\", \"Maersk\", \"Dong Fang\", \"CXI\", \"Seabox\",\n",
    "                     \"China Shipping Container Lines (CSCL)\", \"Textainer Group Holdings Limited\",\n",
    "                     \"COSCO Shipping Development\", \"Hoover Ferguson Group\"]\n",
    "\n",
    "# Check if the manufacturer is in the list or not\n",
    "def check_manufacturer(manufacturer):\n",
    "    if manufacturer in manufacturer_list:\n",
    "        return \"OK\"\n",
    "    else:\n",
    "        return \"Not in the list\"\n",
    "\n",
    "# Iterate through the dataframe and check the manufacturers\n",
    "results = []\n",
    "for index, row in df.iterrows():\n",
    "    manufacturer = row['Manufacturer']\n",
    "    if manufacturer in manufacturer_list:\n",
    "        results.append(\"OK\")\n",
    "    else:\n",
    "        results.append(row)\n",
    "\n",
    "# If there are any non-matching manufacturers, create a dataframe\n",
    "if any(isinstance(x, pd.Series) for x in results):\n",
    "    non_matching_df = pd.concat(results, axis=1).T\n",
    "else:\n",
    "    non_matching_df = None\n",
    "\n",
    "# Export non-matching containers to Excel\n",
    "if non_matching_df is not None:\n",
    "    export_path = \"/Users/carlosjosegonzalezacevedo/Documents/NEOMA/Thesis/DCF Container portfolio acquisition model/DCF---Portfolio-Acquisition-Tool/containers_wrong_manufacturer.xlsx\"\n",
    "    sheet_name = \"Wrong Manufacturer List\"\n",
    "    non_matching_df.to_excel(export_path, index=False, sheet_name=sheet_name)\n",
    "    print(f\"Non-matching containers exported to: {export_path} (Sheet: {sheet_name})\")\n",
    "else:\n",
    "    print(\"All containers have matching manufacturers.\")"
   ]
  },
  {
   "attachments": {},
   "cell_type": "markdown",
   "id": "8ff93afc",
   "metadata": {},
   "source": [
    "# Concentration Covenants"
   ]
  },
  {
   "cell_type": "code",
   "execution_count": 15,
   "id": "3d434c14",
   "metadata": {},
   "outputs": [
    {
     "name": "stdout",
     "output_type": "stream",
     "text": [
      "NBV concentration: Shipping Line 1: 22.91%\n",
      "NBV concentration: Shipping Line 2: 28.96%\n",
      "NBV concentration: Shipping Line 3: 8.23%\n",
      "NBV concentration: Shipping Line 4: 0.02%\n",
      "NBV concentration: Shipping Line 5: 5.95%\n",
      "NBV concentration: Shipping Line 6: 0.02%\n",
      "NBV concentration: Shipping Line 7: 0.03%\n",
      "NBV concentration: Shipping Line 8: 5.76%\n",
      "No concentration breaches have been observed.\n"
     ]
    }
   ],
   "source": [
    "# Define NBV\n",
    "NBV = df_asset_register['NBV'].sum()\n",
    "\n",
    "# Define the list of customers\n",
    "lessees = ['Shipping Line 1', 'Shipping Line 2', 'Shipping Line 3', 'Shipping Line 4', 'Shipping Line 5', 'Shipping Line 6', 'Shipping Line 7', 'Shipping Line 8']\n",
    "\n",
    "# Create a list to store the NBV sums for each customer\n",
    "lessee_nbv_sums = []\n",
    "\n",
    "# Flag to keep track of concentration breaches\n",
    "concentration_breaches = False\n",
    "\n",
    "# Iterate over each customer\n",
    "for lessee in lessees:\n",
    "    # Filter the DataFrame for rows where 'Lessee' is the current customer\n",
    "    lessee_df = df_asset_register[df_asset_register['Lessee'] == lessee]\n",
    "\n",
    "    # Calculate the sum of 'NBV' for the current customer\n",
    "    nbv_sum = lessee_df['NBV'].sum() / NBV * 100\n",
    "    lessee_nbv_sums.append(nbv_sum)\n",
    "\n",
    "    # Print the sum of 'NBV' for the current customer\n",
    "    print(f\"NBV concentration: {lessee}: {nbv_sum:,.2f}%\")\n",
    "\n",
    "    # Check if the NBV concentration exceeds the threshold\n",
    "    if nbv_sum > 30:\n",
    "        concentration_breaches = True\n",
    "        print(\"BREACH: NBV concentration above 30%!\")\n",
    "\n",
    "    # Check if ZIM NBV concentration exceeds the threshold\n",
    "    if lessee == 'ZIM' and nbv_sum > 15:\n",
    "        concentration_breaches = True\n",
    "        print(\"BREACH: ZIM NBV concentration above 15%!\")\n",
    "\n",
    "# Check if there were any concentration breaches\n",
    "if not concentration_breaches:\n",
    "    print(\"No concentration breaches have been observed.\")"
   ]
  },
  {
   "attachments": {},
   "cell_type": "markdown",
   "id": "8266b529",
   "metadata": {},
   "source": [
    "# Advance Rate"
   ]
  },
  {
   "cell_type": "code",
   "execution_count": 25,
   "id": "2b382ec4",
   "metadata": {},
   "outputs": [
    {
     "name": "stdout",
     "output_type": "stream",
     "text": [
      "Updated Advance Rate: 63.68%\n",
      "The updated Debt: 32,498,506.87 USD\n",
      "The updated NBV: 51,033,201.71 USD\n"
     ]
    }
   ],
   "source": [
    "closing_date = datetime(2022, 5, 19)\n",
    "current_date = datetime(2023, 5, 19)\n",
    "\n",
    "\n",
    "def calculate_advance_rate(closing_date: datetime, current_date: datetime):\n",
    "    # Termination date and first repayment date\n",
    "    termination_date = closing_date + timedelta(days=30*27) #approximating months by 30 days\n",
    "    first_repayment_date = closing_date + timedelta(days=30*12) # aprox months and 1 year after the closing date\n",
    "    \n",
    "    # Difference in months\n",
    "    months_delta = (current_date.year - closing_date.year) * 12 + current_date.month - closing_date.month\n",
    "    \n",
    "    # Calculating the advance rate based on dates conditions\n",
    "    if current_date <= closing_date:\n",
    "        return \"Invalid date. The current date should be after the closing date\"\n",
    "    elif current_date <= first_repayment_date:\n",
    "        return \"The limit advance rate is: 66%\"\n",
    "    elif current_date <= termination_date:\n",
    "        # Reduction of 1% for every 3 months after the first repayment date \n",
    "        advance_rate_reduction = ((months_delta - 12) // 3) * 1\n",
    "        return max(65 - advance_rate_reduction, 61) # return the calculated advance rate as a numeric value\n",
    "    else:\n",
    "        return 61 # return the default advance rate as a numeric value\n",
    "\n",
    "# Updated debt\n",
    "updated_debt = df['Purchase Price'].sum() + df_debt['Total'].sum()\n",
    "    \n",
    "# Updated Asset Register\n",
    "updated_nbv = df_asset_register['NBV'].sum()\n",
    "\n",
    "# Advance Rate\n",
    "updated_advance_rate = (updated_debt / updated_nbv) * 100\n",
    "\n",
    "if updated_advance_rate > calculate_advance_rate(closing_date, current_date):\n",
    "    print(\"BREACH: The updated advance rate exceeds the calculated advance rate.\")\n",
    "\n",
    "print(f'Updated Advance Rate: {updated_advance_rate:.2f}%')\n",
    "print(f'The updated Debt: {updated_debt:,.2f} USD')\n",
    "print(f'The updated NBV: {updated_nbv:,.2f} USD')"
   ]
  },
  {
   "attachments": {},
   "cell_type": "markdown",
   "id": "c51ef63a",
   "metadata": {},
   "source": [
    "# Age Covenant"
   ]
  },
  {
   "cell_type": "code",
   "execution_count": 39,
   "id": "0efa21ef",
   "metadata": {},
   "outputs": [
    {
     "name": "stdout",
     "output_type": "stream",
     "text": [
      "Weighted NBV Average Age: 7.53 years\n"
     ]
    }
   ],
   "source": [
    "closing_date = datetime(2023, 6, 12)  # Set the closing date\n",
    "\n",
    "# Convert the \"Manufacturing Date\" column to datetime if it's not already in datetime format\n",
    "df['Manufacturing Date'] = pd.to_datetime(df['Manufacturing Date'])\n",
    "\n",
    "# Calculate the age for each container row\n",
    "df['Age'] = (closing_date - df['Manufacturing Date']).dt.days\n",
    "\n",
    "# Calculate the weighted age using the \"Age\" and \"Purchase Price\" columns\n",
    "df['Weighted Age'] = df['Age'] * df['Purchase Price']\n",
    "\n",
    "# Calculate the weighted average age\n",
    "weighted_average_age = df['Weighted Age'].sum() / df['Purchase Price'].sum() / 365\n",
    "\n",
    "# Print the weighted average age\n",
    "print(f\"Weighted NBV Average Age: {weighted_average_age:.2f} years\")\n",
    "\n",
    "# Check if the weighted average age is above 9 and print a message\n",
    "if weighted_average_age > 9:\n",
    "    print(\"BREACH: The weighted average age is above 9 years.\")"
   ]
  },
  {
   "attachments": {},
   "cell_type": "markdown",
   "id": "0dab9036",
   "metadata": {},
   "source": [
    "# NBV by CEU"
   ]
  },
  {
   "cell_type": "code",
   "execution_count": 49,
   "id": "511ff0e5",
   "metadata": {},
   "outputs": [
    {
     "name": "stdout",
     "output_type": "stream",
     "text": [
      "Total CEU: 31,055.90\n",
      "CEU Purchase Price:1,643.27 USD\n"
     ]
    }
   ],
   "source": [
    "updated_ceu = df_asset_register['CEU'].sum()\n",
    "\n",
    "ceu_purchase_price = updated_nbv / updated_ceu\n",
    "\n",
    "if ceu_purchase_price > 2900:\n",
    "    print(\"BREACH: in contract the CEU price must be below 2900 USD\")\n",
    "    \n",
    "print(f\"Total CEU: {ceu:,.2f}\")\n",
    "print(f\"CEU Purchase Price:{ceu_purchase_price:,.2f} USD\")"
   ]
  },
  {
   "attachments": {},
   "cell_type": "markdown",
   "id": "b32b4327",
   "metadata": {},
   "source": [
    "# Average Remaining Lease Term"
   ]
  },
  {
   "cell_type": "raw",
   "id": "26633f9e",
   "metadata": {},
   "source": [
    "Only for equipment manufactured after 2019. It is a weighted average remaining lease term"
   ]
  },
  {
   "cell_type": "code",
   "execution_count": 57,
   "id": "40afb7d6",
   "metadata": {},
   "outputs": [
    {
     "name": "stdout",
     "output_type": "stream",
     "text": [
      "Average Remaining Lease Term Weighted with Purchase Price for Containers Manufactured after 2019: 15.275\n"
     ]
    }
   ],
   "source": [
    "import pandas as pd\n",
    "from datetime import datetime\n",
    "\n",
    "# Filter containers manufactured after 2019\n",
    "filtered_df = df[df['Vintage'] > 2019].copy()\n",
    "\n",
    "# Calculate remaining lease term\n",
    "closing_date = datetime.now()  # Assuming the closing_date is the current date\n",
    "filtered_df['Remaining Lease Term'] = (filtered_df['End contract date'] - closing_date).dt.days\n",
    "\n",
    "# Calculate weighted average remaining lease term\n",
    "weighted_average = (filtered_df['Remaining Lease Term'] * filtered_df['Purchase Price']).sum() / filtered_df['Purchase Price'].sum()\n",
    "\n",
    "if weighted_average < 5:\n",
    "    print(\"BREACH: the minimum weighted remaining lease term for equipment manufactured after 2019 must be 5 years\")\n",
    "\n",
    "print(\"Average Remaining Lease Term Weighted with Purchase Price for Containers Manufactured after 2019:\", weighted_average)\n"
   ]
  },
  {
   "attachments": {},
   "cell_type": "markdown",
   "id": "27cfed15",
   "metadata": {},
   "source": [
    "# Finance Lease"
   ]
  },
  {
   "cell_type": "code",
   "execution_count": 67,
   "id": "45bcde6c",
   "metadata": {},
   "outputs": [
    {
     "name": "stdout",
     "output_type": "stream",
     "text": [
      "Finance lease proportion: 1.79%\n"
     ]
    }
   ],
   "source": [
    "finance_lease_df = df_asset_register[df_asset_register['Lease Type'] == \"Finance Lease\"]\n",
    "finance_lease_nbv = finance_lease_df['NBV'].sum()\n",
    "finance_lease_proportion = finance_lease_nbv / NBV * 100\n",
    "\n",
    "if finance_lease_proportion > 30:\n",
    "    print(\"BREACH: The Finance Lease proportion needs to be below 30%\")\n",
    "\n",
    "print(f\"Finance lease proportion: {finance_lease_proportion:,.2f}%\")"
   ]
  }
 ],
 "metadata": {
  "kernelspec": {
   "display_name": "Python 3 (ipykernel)",
   "language": "python",
   "name": "python3"
  },
  "language_info": {
   "codemirror_mode": {
    "name": "ipython",
    "version": 3
   },
   "file_extension": ".py",
   "mimetype": "text/x-python",
   "name": "python",
   "nbconvert_exporter": "python",
   "pygments_lexer": "ipython3",
   "version": "3.8.10"
  }
 },
 "nbformat": 4,
 "nbformat_minor": 5
}
